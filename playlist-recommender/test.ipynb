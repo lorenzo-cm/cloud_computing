{
 "cells": [
  {
   "cell_type": "code",
   "execution_count": 12,
   "id": "783511f2",
   "metadata": {},
   "outputs": [
    {
     "name": "stdout",
     "output_type": "stream",
     "text": [
      "Model saved in models/model.pkl\n"
     ]
    }
   ],
   "source": [
    "import pandas as pd\n",
    "import pickle\n",
    "from fpgrowth_py import fpgrowth\n",
    "from pathlib import Path\n",
    "from datetime import datetime\n",
    "import os\n",
    "\n",
    "DATASET_NAME = os.getenv(\"DATASET_NAME\", \"ds1\")\n",
    "DATASET_FILE_PATH = os.getenv(\"DATASET_FILE_PATH\", \"data/2023_spotify_ds1.csv\")\n",
    "MODEL_PATH = os.getenv(\"MODEL_PATH\", \"models/model.pkl\")\n",
    "MIN_SUP_RATIO = os.getenv(\"MIN_SUP_RATIO\", 0.04)\n",
    "MIN_CONF = os.getenv(\"MIN_CONF\", 0.01)\n",
    "\n",
    "MODEL_FILE = Path(MODEL_PATH)\n",
    "MODEL_FILE.parent.mkdir(parents=True, exist_ok=True)\n",
    "\n",
    "df = pd.read_csv(DATASET_FILE_PATH)\n",
    "\n",
    "playlists_songs = df.groupby(\"pid\")[\"track_name\"].apply(lambda x: list(set(x))).tolist()\n",
    "\n",
    "freq_items_set, rules = fpgrowth(playlists_songs, minSupRatio=MIN_SUP_RATIO, minConf=MIN_CONF)\n",
    "\n",
    "with open(MODEL_FILE, \"wb\") as f:\n",
    "    pickle.dump(\n",
    "        {\n",
    "            \"freq\": freq_items_set,\n",
    "            \"rules\": rules,\n",
    "            \"datetime\": datetime.now().isoformat(),\n",
    "            \"dataset\": DATASET_NAME,\n",
    "        },\n",
    "        f,\n",
    "    )\n",
    "\n",
    "print(f\"Model saved in {MODEL_FILE}\")"
   ]
  },
  {
   "cell_type": "code",
   "execution_count": 2,
   "id": "3a3b95d9",
   "metadata": {},
   "outputs": [
    {
     "data": {
      "text/plain": [
       "55880"
      ]
     },
     "execution_count": 2,
     "metadata": {},
     "output_type": "execute_result"
    }
   ],
   "source": [
    "len(rules)"
   ]
  },
  {
   "cell_type": "code",
   "execution_count": 13,
   "id": "e4785a89",
   "metadata": {},
   "outputs": [],
   "source": [
    "def recommend(rules: list, songs: list[str], k=10) -> list[str]:\n",
    "    recommendations: dict[str, float] = {}\n",
    "    \n",
    "    for antecedent, consequent, confidence in rules:\n",
    "        if set(antecedent).issubset(songs):\n",
    "            for c in consequent:\n",
    "                if c not in songs:\n",
    "                    recommendations[c] = recommendations.get(c, 0) + confidence\n",
    "\n",
    "    return sorted(recommendations, key=lambda x: recommendations[x], reverse=True)[:k]"
   ]
  },
  {
   "cell_type": "code",
   "execution_count": 14,
   "id": "e00ea677",
   "metadata": {},
   "outputs": [
    {
     "data": {
      "text/plain": [
       "['Jumpman',\n",
       " 'No Role Modelz',\n",
       " 'Hotline Bling',\n",
       " 'Energy',\n",
       " 'White Iverson',\n",
       " 'One Dance',\n",
       " 'Antidote',\n",
       " 'Broccoli (feat. Lil Yachty)',\n",
       " 'Big Rings',\n",
       " '679 (feat. Remy Boyz)']"
      ]
     },
     "execution_count": 14,
     "metadata": {},
     "output_type": "execute_result"
    }
   ],
   "source": [
    "recommend(rules, [\"Back To Back\"])"
   ]
  }
 ],
 "metadata": {
  "kernelspec": {
   "display_name": "ciano",
   "language": "python",
   "name": "python3"
  },
  "language_info": {
   "codemirror_mode": {
    "name": "ipython",
    "version": 3
   },
   "file_extension": ".py",
   "mimetype": "text/x-python",
   "name": "python",
   "nbconvert_exporter": "python",
   "pygments_lexer": "ipython3",
   "version": "3.12.9"
  }
 },
 "nbformat": 4,
 "nbformat_minor": 5
}
